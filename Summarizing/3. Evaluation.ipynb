{
 "cells": [
  {
   "cell_type": "code",
   "execution_count": 1,
   "metadata": {},
   "outputs": [],
   "source": [
    "import torch\n",
    "from datasets import load_dataset\n",
    "from transformers import AutoTokenizer, AutoModelForSeq2SeqLM"
   ]
  },
  {
   "cell_type": "code",
   "execution_count": 2,
   "metadata": {},
   "outputs": [],
   "source": [
    "model = \"dhanishetty/flan-t5-base-merged\"\n",
    "tokenizer = AutoTokenizer.from_pretrained(model,trust_remote_code=True)\n",
    "model = AutoModelForSeq2SeqLM.from_pretrained(model, trust_remote_code=True, torch_dtype=\"auto\")"
   ]
  },
  {
   "cell_type": "code",
   "execution_count": 3,
   "metadata": {},
   "outputs": [],
   "source": [
    "billsum = load_dataset(\"billsum\", split= 'train')"
   ]
  },
  {
   "cell_type": "code",
   "execution_count": 4,
   "metadata": {},
   "outputs": [
    {
     "data": {
      "text/plain": [
       "Dataset({\n",
       "    features: ['text', 'summary', 'title'],\n",
       "    num_rows: 18949\n",
       "})"
      ]
     },
     "execution_count": 4,
     "metadata": {},
     "output_type": "execute_result"
    }
   ],
   "source": [
    "billsum"
   ]
  },
  {
   "cell_type": "code",
   "execution_count": 5,
   "metadata": {},
   "outputs": [
    {
     "name": "stdout",
     "output_type": "stream",
     "text": [
      "Human Rights Information Act - Directs the President to: (1) establish a human rights information and declassification program for the declassification of human rights documents; (2) establish a human rights information and declassification program for the declassification of human rights documents; and (3) establish a human rights information and declassification program for the declassification of human rights documents. Authorizes the President to establish a human rights information and declassification program for the declassification of human rights documents. Authorizes the President to establish a human rights information and declassification program for the declass\n"
     ]
    }
   ],
   "source": [
    "inputs = tokenizer(billsum['text'][1], return_tensors=\"pt\", max_length= 1024, truncation=True)\n",
    "outputs = model.generate(**inputs, max_length = 128)\n",
    "predictions =  tokenizer.batch_decode(outputs, skip_special_tokens=True)[0]\n",
    "print(predictions)"
   ]
  },
  {
   "cell_type": "code",
   "execution_count": 6,
   "metadata": {},
   "outputs": [
    {
     "name": "stdout",
     "output_type": "stream",
     "text": [
      "Human Rights Information Act - Requires certain Federal agencies to identify and organize all human rights records regarding activities occurring in Guatemala and Honduras after 1944 for declassification and disclosure purposes, and to make them available to the public. \n",
      "Instructs the President to report to Congress regarding agency compliance. \n",
      "Prescribes guidelines under which the Interagency Security Classification Appeals Panel shall review agency determinations to postpone public disclosure of any human rights record.  Authorizes postponement of such public disclosures on specified grounds. \n",
      "Requires any U.S. agency, upon request by an entity created by the United Nations, the Organization of American States (or similar entity), a national truth commission (or similar entity), or from the principal justice or human rights official of a country that is investigating a pattern of gross violations of internationally recognized human rights, to review, declassify, and publicly disclose any human pertinent rights records. \n",
      "Directs the Information Security Policy Advisory Council to report to Congress on declassification of human rights records relating to other countries and to make such report available to the public. \n",
      "Creates two additional positions in the Panel in order to implement this Act.\n"
     ]
    }
   ],
   "source": [
    "references = billsum['summary'][1]\n",
    "print(references)"
   ]
  },
  {
   "cell_type": "code",
   "execution_count": 7,
   "metadata": {},
   "outputs": [
    {
     "name": "stdout",
     "output_type": "stream",
     "text": [
      "Human Rights Information Act - Requires certain Federal agencies to identify and organize all human rights records regarding activities occurring in Guatemala and Honduras after 1944 for declassification and disclosure purposes, and to make them available to the public. \n",
      "Instructs the President to report to Congress regarding agency compliance. \n",
      "Prescribes guidelines under which the Interagency Security Classification Appeals Panel shall review agency determinations to postpone public disclosure of any human rights record.  Authorizes postponement of such public disclosures on specified grounds. \n",
      "Requires any U.S. agency, upon request by an entity created by the United Nati\n"
     ]
    }
   ],
   "source": [
    "def trim_to_match_length(reference_text, prediction_text):\n",
    "    # Calculate the length of the prediction text\n",
    "    prediction_length = len(prediction_text)\n",
    "\n",
    "    # Trim the reference text to match the length of the prediction text\n",
    "    trimmed_reference_text = reference_text[:prediction_length]\n",
    "\n",
    "    return trimmed_reference_text\n",
    "\n",
    "# Example usage\n",
    "reference_text = references\n",
    "prediction_text = predictions\n",
    "\n",
    "references = trim_to_match_length(reference_text, prediction_text)\n",
    "print(references)\n"
   ]
  },
  {
   "cell_type": "code",
   "execution_count": 8,
   "metadata": {},
   "outputs": [],
   "source": [
    "import evaluate\n",
    "rouge = evaluate.load('rouge')\n",
    "results = rouge.compute(predictions=predictions, references=references, use_aggregator=True)"
   ]
  },
  {
   "cell_type": "code",
   "execution_count": 9,
   "metadata": {},
   "outputs": [
    {
     "name": "stdout",
     "output_type": "stream",
     "text": [
      "{'rouge1': 0.07331378299120235, 'rouge2': 0.0, 'rougeL': 0.0718475073313783, 'rougeLsum': 0.07331378299120235}\n"
     ]
    }
   ],
   "source": [
    "print(results)"
   ]
  },
  {
   "cell_type": "code",
   "execution_count": 10,
   "metadata": {},
   "outputs": [
    {
     "data": {
      "application/vnd.jupyter.widget-view+json": {
       "model_id": "5be56e550857443a905b2246a4233f60",
       "version_major": 2,
       "version_minor": 0
      },
      "text/plain": [
       "Downloading builder script:   0%|          | 0.00/5.94k [00:00<?, ?B/s]"
      ]
     },
     "metadata": {},
     "output_type": "display_data"
    },
    {
     "data": {
      "application/vnd.jupyter.widget-view+json": {
       "model_id": "a62083a064ff42a28b89306b94d1937b",
       "version_major": 2,
       "version_minor": 0
      },
      "text/plain": [
       "Downloading extra modules:   0%|          | 0.00/1.55k [00:00<?, ?B/s]"
      ]
     },
     "metadata": {},
     "output_type": "display_data"
    },
    {
     "data": {
      "application/vnd.jupyter.widget-view+json": {
       "model_id": "c61518ac7a1646ce89038bcab239aea7",
       "version_major": 2,
       "version_minor": 0
      },
      "text/plain": [
       "Downloading extra modules:   0%|          | 0.00/3.34k [00:00<?, ?B/s]"
      ]
     },
     "metadata": {},
     "output_type": "display_data"
    },
    {
     "name": "stdout",
     "output_type": "stream",
     "text": [
      "{'bleu': 0.0, 'precisions': [0.08629441624365482, 0.0, 0.0, 0.0], 'brevity_penalty': 1.0, 'length_ratio': 1.0119863013698631, 'translation_length': 591, 'reference_length': 584}\n"
     ]
    }
   ],
   "source": [
    "bleu = evaluate.load(\"bleu\")\n",
    "results = bleu.compute(predictions=predictions, references=references)\n",
    "print(results)"
   ]
  }
 ],
 "metadata": {
  "kernelspec": {
   "display_name": "Python 3",
   "language": "python",
   "name": "python3"
  },
  "language_info": {
   "codemirror_mode": {
    "name": "ipython",
    "version": 3
   },
   "file_extension": ".py",
   "mimetype": "text/x-python",
   "name": "python",
   "nbconvert_exporter": "python",
   "pygments_lexer": "ipython3",
   "version": "3.12.1"
  }
 },
 "nbformat": 4,
 "nbformat_minor": 2
}
